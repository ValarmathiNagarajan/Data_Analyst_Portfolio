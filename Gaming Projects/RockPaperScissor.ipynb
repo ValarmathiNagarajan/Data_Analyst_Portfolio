{
 "cells": [
  {
   "cell_type": "markdown",
   "id": "37f77414",
   "metadata": {},
   "source": [
    "# Rock Paper Scissor"
   ]
  },
  {
   "cell_type": "markdown",
   "id": "378a43bb",
   "metadata": {},
   "source": [
    "#### This program is designed to play Rock, Paper, Scissor game with the computer.\n"
   ]
  },
  {
   "cell_type": "code",
   "execution_count": null,
   "id": "d9cddfe5",
   "metadata": {},
   "outputs": [],
   "source": [
    "#Importing required Packages\n",
    "\n",
    "import random\n"
   ]
  },
  {
   "cell_type": "code",
   "execution_count": null,
   "id": "e6b4fd90",
   "metadata": {},
   "outputs": [],
   "source": [
    "gameList=['rock','paper','scissor']   #Options for the computer\n",
    "\n",
    "while True:\n",
    "    userOption=input(\"Enter the choice (rock/paper/scissor): \")\n",
    "    sysOption=random.choice(gameList)\n",
    "    print(\"System Choice: \",sysOption)\n",
    "    if(userOption==sysOption):\n",
    "        print(\"Its a tie\")\n",
    "    elif(sysOption=='rock' and userOption=='paper'):\n",
    "        print(\"User won\")\n",
    "    elif(sysOption=='paper' and userOption=='rock'):\n",
    "        print(\"System won\")\n",
    "    elif(sysOption=='paper' and userOption=='scissor'):\n",
    "        print(\"User won\")\n",
    "    elif(sysOption=='scissor' and userOption=='paper'):\n",
    "        print(\"System won\")\n",
    "    elif(sysOption=='scissor' and userOption=='rock'):\n",
    "        print(\"User won\")\n",
    "    elif(sysOption=='rock' and userOption=='scissor'):\n",
    "        print(\"System won\")\n",
    "    else:\n",
    "        print(\"Invalid Option\")\n",
    "    \n",
    "    cont=input(\"Do you want to continue y/n: \")\n",
    "    if(cont=='n' or cont=='no'):\n",
    "        break\n",
    "    elif(cont=='y' or cont=='yes'):\n",
    "        continue\n",
    "    else:\n",
    "        print(\"Invalid Input. Ending the Game\")\n",
    "        break\n",
    "    "
   ]
  }
 ],
 "metadata": {
  "kernelspec": {
   "display_name": "Python 3 (ipykernel)",
   "language": "python",
   "name": "python3"
  },
  "language_info": {
   "codemirror_mode": {
    "name": "ipython",
    "version": 3
   },
   "file_extension": ".py",
   "mimetype": "text/x-python",
   "name": "python",
   "nbconvert_exporter": "python",
   "pygments_lexer": "ipython3",
   "version": "3.9.7"
  }
 },
 "nbformat": 4,
 "nbformat_minor": 5
}
