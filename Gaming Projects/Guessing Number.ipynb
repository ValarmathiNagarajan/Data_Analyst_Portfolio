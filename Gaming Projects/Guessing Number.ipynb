{
 "cells": [
  {
   "cell_type": "markdown",
   "id": "651e37df",
   "metadata": {},
   "source": [
    "## Guessing Number between 1 to 100"
   ]
  },
  {
   "cell_type": "code",
   "execution_count": 2,
   "id": "10639f7b",
   "metadata": {},
   "outputs": [],
   "source": [
    "#Importing required packages\n",
    "\n",
    "import random"
   ]
  },
  {
   "cell_type": "code",
   "execution_count": 4,
   "id": "37903b95",
   "metadata": {},
   "outputs": [
    {
     "name": "stdout",
     "output_type": "stream",
     "text": [
      "\n",
      "Guess a number between 1 and 100: 67\n",
      "\n",
      "Sorry, your guess is wrong. The predicted number is greater than your number \n",
      "\n",
      "Guess a number between 1 and 100: 88\n",
      "\n",
      "Sorry, your guess is wrong. The predicted number is less than your number \n",
      "\n",
      "Guess a number between 1 and 100: 78\n",
      "\n",
      "Sorry, your guess is wrong. The predicted number is greater than your number \n",
      "\n",
      "Guess a number between 1 and 100: 80\n",
      "\n",
      "Sorry, your guess is wrong. The predicted number is greater than your number \n",
      "\n",
      "Guess a number between 1 and 100: 84\n",
      "\n",
      "Sorry, your guess is wrong. The predicted number is less than your number \n",
      "\n",
      "Predicted number:  82\n",
      "You lose the game!!!\n",
      "\n",
      "Do you want to continue y/n: df\n",
      "\n",
      "Invalid Input.\n",
      "Ending the Game!!!\n"
     ]
    }
   ],
   "source": [
    "numList=list(range(1,101))\n",
    "\n",
    "count=0  # Number of chances given to the user\n",
    "flag=0   # Guessed or not\n",
    "\n",
    "sysOption=random.choice(numList)\n",
    "\n",
    "while True:\n",
    "    \n",
    "    if(count<5):\n",
    "        count=count+1\n",
    "        userOption=int(input(\"\\nGuess a number between 1 and 100: \"))\n",
    "        if(userOption<1 and userOption>100):\n",
    "            print(\"\\nInvalid Option\")\n",
    "        elif(userOption==sysOption):\n",
    "            print(\"\\nYes!!! U guessed correctly!!! You are brilliant\")\n",
    "            flag=1\n",
    "        elif(userOption>sysOption):\n",
    "            print(\"\\nSorry, your guess is wrong. The predicted number is less than your number \")\n",
    "        elif(userOption<sysOption):\n",
    "            print(\"\\nSorry, your guess is wrong. The predicted number is greater than your number \")\n",
    "    \n",
    "        if(count==5):\n",
    "            print(\"\\nPredicted number: \",sysOption)\n",
    "            print(\"You lose the game!!!\")\n",
    "            flag=1\n",
    "        \n",
    "    if(flag==1):\n",
    "        cont=input(\"\\nDo you want to continue y/n: \")\n",
    "        if(cont=='n' or cont=='no'):\n",
    "            break\n",
    "        elif(cont=='y' or cont=='yes'):\n",
    "            count=0\n",
    "            flag=0\n",
    "            sysOption=random.choice(numList)\n",
    "            continue\n",
    "        else:\n",
    "            print(\"\\nInvalid Input.\\nEnding the Game!!!\")\n",
    "            break"
   ]
  },
  {
   "cell_type": "code",
   "execution_count": null,
   "id": "fcb61d42",
   "metadata": {},
   "outputs": [],
   "source": []
  }
 ],
 "metadata": {
  "kernelspec": {
   "display_name": "Python 3 (ipykernel)",
   "language": "python",
   "name": "python3"
  },
  "language_info": {
   "codemirror_mode": {
    "name": "ipython",
    "version": 3
   },
   "file_extension": ".py",
   "mimetype": "text/x-python",
   "name": "python",
   "nbconvert_exporter": "python",
   "pygments_lexer": "ipython3",
   "version": "3.9.7"
  }
 },
 "nbformat": 4,
 "nbformat_minor": 5
}
